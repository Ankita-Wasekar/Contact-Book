{
 "cells": [
  {
   "cell_type": "code",
   "execution_count": 5,
   "id": "da42a82f-23c4-449f-b7fe-1fedf4366d37",
   "metadata": {},
   "outputs": [
    {
     "name": "stdout",
     "output_type": "stream",
     "text": [
      "\n",
      "===== Contact Book Menu =====\n",
      "1. Add Contact\n",
      "2. Display All Contacts\n",
      "3. Search Contact\n",
      "4. Delete Contact\n",
      "5. Exit\n"
     ]
    },
    {
     "name": "stdin",
     "output_type": "stream",
     "text": [
      "Enter your choice (1-5):  1\n",
      "Enter name:  Ankita Wasekar\n",
      "Enter phone number:  8888574215\n",
      "Enter email:  ankitawasekar08965@gmail.com\n"
     ]
    },
    {
     "name": "stdout",
     "output_type": "stream",
     "text": [
      "✅ Contact added successfully!\n",
      "\n",
      "===== Contact Book Menu =====\n",
      "1. Add Contact\n",
      "2. Display All Contacts\n",
      "3. Search Contact\n",
      "4. Delete Contact\n",
      "5. Exit\n"
     ]
    },
    {
     "name": "stdin",
     "output_type": "stream",
     "text": [
      "Enter your choice (1-5):  3\n",
      "Enter name to search:  Ankita Wasekar\n"
     ]
    },
    {
     "name": "stdout",
     "output_type": "stream",
     "text": [
      "🔍 Found - Name: Ankita Wasekar, Phone: 8888574215, Email: ankitawaselar08965@gmail.com\n",
      "\n",
      "===== Contact Book Menu =====\n",
      "1. Add Contact\n",
      "2. Display All Contacts\n",
      "3. Search Contact\n",
      "4. Delete Contact\n",
      "5. Exit\n"
     ]
    },
    {
     "name": "stdin",
     "output_type": "stream",
     "text": [
      "Enter your choice (1-5):  4\n",
      "Enter name to delete:  Ankita Wasekar\n"
     ]
    },
    {
     "name": "stdout",
     "output_type": "stream",
     "text": [
      "🗑️ Contact deleted successfully!\n",
      "\n",
      "===== Contact Book Menu =====\n",
      "1. Add Contact\n",
      "2. Display All Contacts\n",
      "3. Search Contact\n",
      "4. Delete Contact\n",
      "5. Exit\n"
     ]
    },
    {
     "name": "stdin",
     "output_type": "stream",
     "text": [
      "Enter your choice (1-5):  5\n"
     ]
    },
    {
     "name": "stdout",
     "output_type": "stream",
     "text": [
      "👋 Goodbye!\n"
     ]
    }
   ],
   "source": [
    "import mysql.connector\n",
    "\n",
    "# Establish connection to MySQL\n",
    "def get_connection():\n",
    "    return mysql.connector.connect(\n",
    "        host='localhost',\n",
    "        database='contact_book',\n",
    "        user='root',\n",
    "        password='123456'\n",
    "    )\n",
    "\n",
    "# Add contact\n",
    "def add_contact():\n",
    "    name = input(\"Enter name: \")\n",
    "    phone = input(\"Enter phone number: \")\n",
    "    email = input(\"Enter email: \")\n",
    "    \n",
    "    conn = get_connection()\n",
    "    cursor = conn.cursor()\n",
    "    try:\n",
    "        cursor.execute(\"INSERT INTO contacts (name, phone, email) VALUES (%s, %s, %s)\", (name, phone, email))\n",
    "        conn.commit()\n",
    "        print(\"✅ Contact added successfully!\")\n",
    "    except Exception as e:\n",
    "        print(\"❌ Error:\", e)\n",
    "    finally:\n",
    "        conn.close()\n",
    "\n",
    "# Display all contacts\n",
    "def display_contacts():\n",
    "    conn = get_connection()\n",
    "    cursor = conn.cursor()\n",
    "    cursor.execute(\"SELECT name, phone, email FROM contacts\")\n",
    "    contacts = cursor.fetchall()\n",
    "    \n",
    "    if contacts:\n",
    "        for row in contacts:\n",
    "            print(f\"📇 Name: {row[0]}, Phone: {row[1]}, Email: {row[2]}\")\n",
    "    else:\n",
    "        print(\"No contacts found.\")\n",
    "    \n",
    "    conn.close()\n",
    "\n",
    "# Search contact\n",
    "def search_contact():\n",
    "    name = input(\"Enter name to search: \")\n",
    "    conn = get_connection()\n",
    "    cursor = conn.cursor()\n",
    "    cursor.execute(\"SELECT name, phone, email FROM contacts WHERE name = %s\", (name,))\n",
    "    contact = cursor.fetchone()\n",
    "    \n",
    "    if contact:\n",
    "        print(f\"🔍 Found - Name: {contact[0]}, Phone: {contact[1]}, Email: {contact[2]}\")\n",
    "    else:\n",
    "        print(\"❌ Contact not found.\")\n",
    "    \n",
    "    conn.close()\n",
    "\n",
    "# Delete contact\n",
    "def delete_contact():\n",
    "    name = input(\"Enter name to delete: \")\n",
    "    conn = get_connection()\n",
    "    cursor = conn.cursor()\n",
    "    cursor.execute(\"DELETE FROM contacts WHERE name = %s\", (name,))\n",
    "    conn.commit()\n",
    "    \n",
    "    if cursor.rowcount:\n",
    "        print(\"🗑️ Contact deleted successfully!\")\n",
    "    else:\n",
    "        print(\"❌ Contact not found.\")\n",
    "    \n",
    "    conn.close()\n",
    "\n",
    "# Main menu\n",
    "def main():\n",
    "    while True:\n",
    "        print(\"\\n===== Contact Book Menu =====\")\n",
    "        print(\"1. Add Contact\")\n",
    "        print(\"2. Display All Contacts\")\n",
    "        print(\"3. Search Contact\")\n",
    "        print(\"4. Delete Contact\")\n",
    "        print(\"5. Exit\")\n",
    "        \n",
    "        choice = input(\"Enter your choice (1-5): \")\n",
    "        \n",
    "        if choice == '1':\n",
    "            add_contact()\n",
    "        elif choice == '2':\n",
    "            display_contacts()\n",
    "        elif choice == '3':\n",
    "            search_contact()\n",
    "        elif choice == '4':\n",
    "            delete_contact()\n",
    "        elif choice == '5':\n",
    "            print(\"👋 Goodbye!\")\n",
    "            break\n",
    "        else:\n",
    "            print(\"❗ Invalid choice. Please try again.\")\n",
    "\n",
    "main()\n"
   ]
  },
  {
   "cell_type": "code",
   "execution_count": null,
   "id": "20ec9321-eed5-47e7-8767-7711f6ad4b5c",
   "metadata": {},
   "outputs": [],
   "source": []
  }
 ],
 "metadata": {
  "kernelspec": {
   "display_name": "Python 3 (ipykernel)",
   "language": "python",
   "name": "python3"
  },
  "language_info": {
   "codemirror_mode": {
    "name": "ipython",
    "version": 3
   },
   "file_extension": ".py",
   "mimetype": "text/x-python",
   "name": "python",
   "nbconvert_exporter": "python",
   "pygments_lexer": "ipython3",
   "version": "3.12.7"
  }
 },
 "nbformat": 4,
 "nbformat_minor": 5
}
