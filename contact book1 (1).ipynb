{
 "cells": [
  {
   "cell_type": "code",
   "execution_count": 9,
   "id": "17f61b91-1def-45e5-bcae-54d022780dbb",
   "metadata": {},
   "outputs": [
    {
     "name": "stdout",
     "output_type": "stream",
     "text": [
      "\n",
      "1.Add contact \n",
      "2.Display contact\n",
      "3.search contact\n",
      "4.Delete contact\n",
      "5.Exit\n"
     ]
    },
    {
     "name": "stdin",
     "output_type": "stream",
     "text": [
      "Enter choice:  1\n",
      "enter name:  Ankita\n",
      "enter phone number:  8888574215\n",
      "enter email:  ankita@gmail.com\n"
     ]
    },
    {
     "name": "stdout",
     "output_type": "stream",
     "text": [
      "contact added successsfully!\n",
      "\n",
      "1.Add contact \n",
      "2.Display contact\n",
      "3.search contact\n",
      "4.Delete contact\n",
      "5.Exit\n"
     ]
    },
    {
     "name": "stdin",
     "output_type": "stream",
     "text": [
      "Enter choice:  3\n",
      "Enter name to search:  Ankita\n"
     ]
    },
    {
     "name": "stdout",
     "output_type": "stream",
     "text": [
      "Name:Ankita,phone:8888574215,Email:ankita@gmail.com\n",
      "\n",
      "1.Add contact \n",
      "2.Display contact\n",
      "3.search contact\n",
      "4.Delete contact\n",
      "5.Exit\n"
     ]
    },
    {
     "name": "stdin",
     "output_type": "stream",
     "text": [
      "Enter choice:  4\n",
      "Enter name to search:  Ankita\n"
     ]
    },
    {
     "name": "stdout",
     "output_type": "stream",
     "text": [
      "contact deleted successfully \n",
      "\n",
      "1.Add contact \n",
      "2.Display contact\n",
      "3.search contact\n",
      "4.Delete contact\n",
      "5.Exit\n"
     ]
    },
    {
     "name": "stdin",
     "output_type": "stream",
     "text": [
      "Enter choice:  5\n"
     ]
    },
    {
     "name": "stdout",
     "output_type": "stream",
     "text": [
      "Good bye!\n"
     ]
    }
   ],
   "source": [
    "#contact book using list and dictionaries\n",
    "\n",
    "#add contact\n",
    "contacts=[]\n",
    "def add_contact():\n",
    "    name=input('enter name: ')\n",
    "    phone=input('enter phone number: ')\n",
    "    email=input(\"enter email: \")\n",
    "    contacts.append({\"name\":name,\"phone\":phone,\"email\":email})\n",
    "    print(\"contact added successsfully!\")\n",
    "#display all contacts\n",
    "def display_contact():\n",
    "    if not contacts:\n",
    "        print(\"No contact found.\")\n",
    "        return\n",
    "    for contact in contacts:\n",
    "        print(f\"Name: {contact['name']},phone:{contact['phone']},Email:{contact['email']}\")\n",
    "#search contact\n",
    "def search_contact():\n",
    "    name=input(\"Enter name to search: \")\n",
    "    for contact in contacts:\n",
    "        if contact[\"name\"].lower()==name.lower():\n",
    "            print(f\"Name:{contact['name']},phone:{contact['phone']},Email:{contact['email']}\")\n",
    "            return\n",
    "    print(\"Contact not found.\")\n",
    "#delete contact\n",
    "def delete_contact():\n",
    "    name=input(\"Enter name to search: \")\n",
    "    for contact in contacts:\n",
    "        if contact[\"name\"].lower()==name.lower():\n",
    "            contacts.remove(contact)\n",
    "            print(\"contact deleted successfully \")\n",
    "            return\n",
    "    print(\"Contact not found.\")\n",
    "#Main menu\n",
    "def main():\n",
    "    while True:\n",
    "        print(\"\\n1.Add contact \\n2.Display contact\\n3.search contact\\n4.Delete contact\\n5.Exit\")\n",
    "        choice=input(\"Enter choice: \")\n",
    "        if choice =='1':\n",
    "            add_contact()\n",
    "        elif choice=='2':\n",
    "            display_contact()\n",
    "        elif choice=='3':\n",
    "            search_contact()\n",
    "        elif choice=='4':\n",
    "            delete_contact()\n",
    "        elif choice=='5':\n",
    "            print(\"Good bye!\")\n",
    "            break\n",
    "        else:\n",
    "            print(\"Invalid choice,try again.\")\n",
    "main()"
   ]
  },
  {
   "cell_type": "code",
   "execution_count": null,
   "id": "add4333e-4f43-427c-8246-4ab0fd339323",
   "metadata": {},
   "outputs": [],
   "source": []
  }
 ],
 "metadata": {
  "kernelspec": {
   "display_name": "Python 3 (ipykernel)",
   "language": "python",
   "name": "python3"
  },
  "language_info": {
   "codemirror_mode": {
    "name": "ipython",
    "version": 3
   },
   "file_extension": ".py",
   "mimetype": "text/x-python",
   "name": "python",
   "nbconvert_exporter": "python",
   "pygments_lexer": "ipython3",
   "version": "3.12.7"
  }
 },
 "nbformat": 4,
 "nbformat_minor": 5
}
